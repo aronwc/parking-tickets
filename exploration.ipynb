{
 "cells": [
  {
   "cell_type": "code",
   "execution_count": 12,
   "metadata": {
    "collapsed": false
   },
   "outputs": [
    {
     "name": "stdout",
     "output_type": "stream",
     "text": [
      "[text:'PARKING TICKET DATA', empty:'']\n",
      "[empty:'', empty:'']\n",
      "[text:'ITEM NAME', text:'DESCRIPTION']\n",
      "[empty:'', empty:'']\n",
      "[text:'TAG_NUMBER_MASKED', text:'First three (3) characters masked with asterisks']\n",
      "[text:'DATE_OF_INFRACTION', text:'Date the infraction occurred in YYYYMMDD format']\n",
      "[text:'INFRACTION_CODE', text:'Applicable Infraction code (numeric)']\n",
      "[text:'INFRACTION_DESCRIPTION', text:'Short description of the infraction']\n",
      "[text:'SET_FINE_AMOUNT', text:'Amount of set fine applicable (in dollars)']\n",
      "[text:'TIME_OF_INFRACTION', text:'Time the infraction occurred  in HHMM format (24-hr clock)']\n",
      "[text:'LOCATION1', text:'Code to denote proximity (see table below)']\n",
      "[text:'LOCATION2', text:'Street address']\n",
      "[text:'LOCATION3', text:'Code to denote proximity (optional)']\n",
      "[text:'LOCATION4', text:'Street address (optional)']\n",
      "[text:'PROVINCE', text:'Province or state code of vehicle licence plate']\n",
      "[empty:'', empty:'']\n",
      "[empty:'', empty:'']\n",
      "[text:'Proximity Code Table', empty:'']\n",
      "[text:'PROXIMITY CODE', text:'DESCRIPTION']\n",
      "[text:'AT', text:'At']\n",
      "[text:'NR', text:'Near']\n",
      "[text:'OPP', text:'Opposite']\n",
      "[text:'R/O', text:'Rear of']\n",
      "[text:'N/S', text:'North Side']\n",
      "[text:'S/S', text:'South Side']\n",
      "[text:'E/S', text:'East Side']\n",
      "[text:'W/S', text:'West Side']\n",
      "[text:'N/O', text:'North of']\n",
      "[text:'S/O', text:'South of']\n",
      "[text:'E/O', text:'East of']\n",
      "[text:'W/O', text:'West of']\n"
     ]
    }
   ],
   "source": [
    "import xlrd\n",
    "\n",
    "sheet = xlrd.open_workbook('parking_tickets_readme.xls').sheet_by_index(0)\n",
    "for row in range(0,sheet.nrows):\n",
    "    print(sheet.row(row))"
   ]
  },
  {
   "cell_type": "markdown",
   "metadata": {},
   "source": [
    "Items to store in memory:\n",
    "    -infraction_codes counters for all years\n",
    "    -fine_amounts for all years\n",
    "    -top locations for all years (numbers scrubbed)\n",
    "    -number of tickets per day for all years (graph and raw data)\n",
    "\n",
    "Predict 2016 parking tickets??!?!?!?"
   ]
  },
  {
   "cell_type": "code",
   "execution_count": 17,
   "metadata": {
    "collapsed": false
   },
   "outputs": [
    {
     "name": "stdout",
     "output_type": "stream",
     "text": [
      "EAST MALL\n",
      "data/2008.csv success\n",
      "PRINCES BLVD\n",
      "data/2009.csv success\n",
      "DUPONT ST\n",
      "data/2010.csv success\n",
      "BRIAN HARRISON WAY\n",
      "data/2011.csv success\n",
      "PARKSIDE DR\n",
      "data/2012.csv success\n",
      "DANFORTH AVE\n",
      "data/2013.csv success\n",
      "SELLERS AVE\n",
      "data/2014.csv success\n",
      "CENTRE AVE\n",
      "data/2015.csv success\n"
     ]
    }
   ],
   "source": [
    "import csv\n",
    "import re\n",
    "years=['2008','2009','2010','2011','2012','2013','2014','2015']\n",
    "files_to_open=['data/'+year+'.csv' for year in years]\n",
    "\n",
    "def test_files(years, files_to_open):\n",
    "    for file in files_to_open:\n",
    "        try:\n",
    "            with open(file,'rt',encoding='utf8') as f:\n",
    "                reader = csv.DictReader(f)\n",
    "                line = next(reader)\n",
    "                print(collapse_address(line['location2']))\n",
    "                print(file+\" success\")\n",
    "        except FileNotFoundError:\n",
    "            print(file+\" failed\")\n",
    "            \n",
    "test_files(years,files_to_open)"
   ]
  },
  {
   "cell_type": "code",
   "execution_count": 18,
   "metadata": {
    "collapsed": false
   },
   "outputs": [
    {
     "name": "stdout",
     "output_type": "stream",
     "text": [
      "PROCESSED 2008\n",
      "PROCESSED 2009\n",
      "PROCESSED 2010\n",
      "PROCESSED 2011\n",
      "PROCESSED 2012\n",
      "PROCESSED 2013\n",
      "PROCESSED 2014\n",
      "PROCESSED 2015\n"
     ]
    }
   ],
   "source": [
    "import csv\n",
    "import sys\n",
    "from collections import defaultdict\n",
    "from collections import Counter\n",
    "import re\n",
    "\n",
    "def collapse_address(address):\n",
    "    return re.sub(\"^\\d+\\s|\\s\\d+\\s|\\s\\d+$\", \"\", address)\n",
    "\n",
    "infraction_codes_dict={}\n",
    "fine_amounts_dict={}\n",
    "addresses_dict={}\n",
    "infraction_codes = defaultdict(int)\n",
    "fine_amounts = defaultdict(int)\n",
    "addresses = defaultdict(int)\n",
    "dates = defaultdict(int)\n",
    "csv.field_size_limit(sys.maxsize)\n",
    "years=['2008','2009','2010','2011','2012','2013','2014','2015']\n",
    "files_to_open=['data/'+year+'.csv' for year in years]\n",
    "for idx,file in enumerate(files_to_open):\n",
    "    with open(file, 'rt', encoding='utf8') as f:\n",
    "        reader = csv.DictReader(f)\n",
    "        for line in reader:\n",
    "            infraction_codes[line['infraction_code']]+=1\n",
    "            fine_amounts[line['set_fine_amount']]+=1\n",
    "            addresses[collapse_address(line['location2'])]+=1\n",
    "            dates[line['date_of_infraction']]+=1\n",
    "    infraction_codes_dict[years[idx]]=infraction_codes\n",
    "    fine_amounts_dict[years[idx]]=fine_amounts\n",
    "    addresses_dict[years[idx]]=addresses\n",
    "    infraction_codes.clear()\n",
    "    fine_amounts.clear()\n",
    "    addresses.clear()\n",
    "    print(\"PROCESSED \"+years[idx])"
   ]
  }
 ],
 "metadata": {
  "kernelspec": {
   "display_name": "Python 3",
   "language": "python",
   "name": "python3"
  },
  "language_info": {
   "codemirror_mode": {
    "name": "ipython",
    "version": 3
   },
   "file_extension": ".py",
   "mimetype": "text/x-python",
   "name": "python",
   "nbconvert_exporter": "python",
   "pygments_lexer": "ipython3",
   "version": "3.5.1"
  }
 },
 "nbformat": 4,
 "nbformat_minor": 0
}
