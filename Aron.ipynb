{
 "cells": [
  {
   "cell_type": "code",
   "execution_count": 118,
   "metadata": {
    "collapsed": false
   },
   "outputs": [],
   "source": [
    "import glob\n",
    "import math\n",
    "import pandas as pd\n",
    "import re\n",
    "import urllib.request\n",
    "import zipfile\n",
    "years = range(2008, 2016)\n",
    "path = '/data/parking/'"
   ]
  },
  {
   "cell_type": "code",
   "execution_count": 9,
   "metadata": {
    "collapsed": false
   },
   "outputs": [
    {
     "name": "stdout",
     "output_type": "stream",
     "text": [
      "downloading 2008\n",
      "downloading 2009\n",
      "downloading 2010\n",
      "downloading 2011\n",
      "downloading 2012\n",
      "downloading 2013\n",
      "downloading 2014\n",
      "downloading 2015\n"
     ]
    }
   ],
   "source": [
    "def download_data(years, path):\n",
    "    for year in years:\n",
    "        print('downloading %d' % year)\n",
    "        urllib.request.urlretrieve('http://opendata.toronto.ca/revenue/parking/ticket/parking_tickets_%d.zip' % year,\n",
    "                                   '%s/%d.zip' % (path, year))\n",
    "        \n",
    "download_data(years, path)"
   ]
  },
  {
   "cell_type": "code",
   "execution_count": 12,
   "metadata": {
    "collapsed": true
   },
   "outputs": [],
   "source": [
    "def unzip_data(years, path):\n",
    "    for year in years:\n",
    "        with zipfile.ZipFile('%s/%d.zip' % (path, year)) as zf:\n",
    "            zf.extractall(path)\n",
    "        \n",
    "unzip_data(years, path)"
   ]
  },
  {
   "cell_type": "code",
   "execution_count": 37,
   "metadata": {
    "collapsed": false
   },
   "outputs": [
    {
     "name": "stdout",
     "output_type": "stream",
     "text": [
      "/data/parking/Parking_Tags_data_2008.csv\n",
      "/data/parking/Parking_Tags_data_2009.csv\n",
      "/data/parking/Parking_Tags_data_2010.csv\n",
      "/data/parking/Parking_Tags_data_2011.csv\n",
      "/data/parking/Parking_Tags_Data_2012.csv\n",
      "/data/parking/Parking_Tags_Data_2013.csv\n",
      "/data/parking/Parking_Tags_Data_2014_1.csv\n",
      "/data/parking/Parking_Tags_Data_2014_2.csv\n",
      "/data/parking/Parking_Tags_Data_2014_3.csv\n",
      "/data/parking/Parking_Tags_Data_2014_4.csv\n",
      "/data/parking/Parking_Tags_Data_2015_1.csv\n",
      "/data/parking/Parking_Tags_Data_2015_2.csv\n",
      "/data/parking/Parking_Tags_Data_2015_3.csv\n"
     ]
    }
   ],
   "source": [
    "def read_all_data(path, cols):\n",
    "    df = None\n",
    "    for fname in glob.glob('%s/*.csv' % path):\n",
    "        print(fname)\n",
    "        df2 = pd.read_csv(fname,\n",
    "                          encoding='cp1252',  # unfortunately, not utf8\n",
    "                          quoting=csv.QUOTE_NONE,\n",
    "                          usecols=cols)\n",
    "        if df is None:\n",
    "            df = df2\n",
    "        else:\n",
    "            df = pd.concat((df, df2))\n",
    "    return df\n",
    "                             \n",
    "location_df = read_all_data(path, ['location2'])"
   ]
  },
  {
   "cell_type": "code",
   "execution_count": 56,
   "metadata": {
    "collapsed": false,
    "scrolled": false
   },
   "outputs": [
    {
     "data": {
      "text/plain": [
       "15588133"
      ]
     },
     "execution_count": 56,
     "metadata": {},
     "output_type": "execute_result"
    }
   ],
   "source": [
    "locations = [x for x in location_df['location2'] if x and type(x) == str]\n",
    "# total location strings.\n",
    "len(locations)"
   ]
  },
  {
   "cell_type": "code",
   "execution_count": 59,
   "metadata": {
    "collapsed": false
   },
   "outputs": [
    {
     "data": {
      "text/plain": [
       "509625"
      ]
     },
     "execution_count": 59,
     "metadata": {},
     "output_type": "execute_result"
    }
   ],
   "source": [
    "# unique addresses.\n",
    "locations_u = set(locations)\n",
    "len(locations_u)"
   ]
  },
  {
   "cell_type": "code",
   "execution_count": 60,
   "metadata": {
    "collapsed": false
   },
   "outputs": [
    {
     "data": {
      "text/plain": [
       "47046"
      ]
     },
     "execution_count": 60,
     "metadata": {},
     "output_type": "execute_result"
    }
   ],
   "source": [
    "# unique street names.\n",
    "len(set(re.sub(r'[0-9]', '', x) for x in locations_u))"
   ]
  },
  {
   "cell_type": "code",
   "execution_count": 117,
   "metadata": {
    "collapsed": false
   },
   "outputs": [
    {
     "name": "stdout",
     "output_type": "stream",
     "text": [
      "10000 VICTORIA PARK AVE\n",
      "3000 VICTORIA PARK AVE\n",
      "2800 VICTORIA PARK AVE\n",
      "2750 VICTORIA PARK AVE\n",
      "10000 MAIN ST\n",
      "1000 MAIN ST\n",
      "200 MAIN ST\n",
      "130 MAIN ST\n"
     ]
    }
   ],
   "source": [
    "def do_round(numbers, n):\n",
    "    # n=number of sig digits.\n",
    "    v = 10**n\n",
    "    return str(math.ceil(int(numbers) / v) * v)\n",
    "    \n",
    "def collapse_digits(address, n):\n",
    "    return re.sub(r'([0-9]+)',\n",
    "           lambda x: do_round(x.groups()[0], n),\n",
    "           address)\n",
    "\n",
    "test_address = '2743 VICTORIA PARK AVE'\n",
    "print(collapse_digits(test_address, 4))\n",
    "print(collapse_digits(test_address, 3))\n",
    "print(collapse_digits(test_address, 2))\n",
    "print(collapse_digits(test_address, 1))\n",
    "test_address = '123 MAIN ST'\n",
    "print(collapse_digits(test_address, 4))\n",
    "print(collapse_digits(test_address, 3))\n",
    "print(collapse_digits(test_address, 2))\n",
    "print(collapse_digits(test_address, 1))"
   ]
  },
  {
   "cell_type": "code",
   "execution_count": 116,
   "metadata": {
    "collapsed": false
   },
   "outputs": [
    {
     "name": "stdout",
     "output_type": "stream",
     "text": [
      "collapsing to 10000 yields 48451 addresses\n",
      "collapsing to 1000 yields 52594 addresses\n",
      "collapsing to 100 yields 72369 addresses\n",
      "collapsing to 10 yields 168696 addresses\n"
     ]
    }
   ],
   "source": [
    "# How does collapsing addresses reduce size?\n",
    "for i in [4,3,2,1]:\n",
    "    print('rounding to %d yields %d addresses' %\n",
    "          (10**i, len(set(collapse_digits(x, i) for x in locations_u))))"
   ]
  }
 ],
 "metadata": {
  "kernelspec": {
   "display_name": "Python 3",
   "language": "python",
   "name": "python3"
  },
  "language_info": {
   "codemirror_mode": {
    "name": "ipython",
    "version": 3
   },
   "file_extension": ".py",
   "mimetype": "text/x-python",
   "name": "python",
   "nbconvert_exporter": "python",
   "pygments_lexer": "ipython3",
   "version": "3.5.0"
  }
 },
 "nbformat": 4,
 "nbformat_minor": 1
}
